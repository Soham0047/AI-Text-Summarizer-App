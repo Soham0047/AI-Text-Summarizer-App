{
  "nbformat": 4,
  "nbformat_minor": 0,
  "metadata": {
    "colab": {
      "provenance": [],
      "include_colab_link": true
    },
    "kernelspec": {
      "name": "python3",
      "display_name": "Python 3"
    },
    "language_info": {
      "name": "python"
    }
  },
  "cells": [
    {
      "cell_type": "markdown",
      "metadata": {
        "id": "view-in-github",
        "colab_type": "text"
      },
      "source": [
        "<a href=\"https://colab.research.google.com/github/Soham0047/AI-Text-Summarizer-App/blob/main/OneRise_NYC_1B.ipynb\" target=\"_parent\"><img src=\"https://colab.research.google.com/assets/colab-badge.svg\" alt=\"Open In Colab\"/></a>"
      ]
    },
    {
      "cell_type": "markdown",
      "source": [
        "To sync changes on Colab to Github, press File < Save a copy in github < select our repository < press ok. If our repository doesn't show up for you, go to"
      ],
      "metadata": {
        "id": "hI-gjHKzbI1u"
      }
    },
    {
      "cell_type": "code",
      "source": [
        "#importing libraries\n",
        "import os\n",
        "import pandas as pd\n",
        "import numpy as np\n",
        "%matplotlib inline\n",
        "import matplotlib.pyplot as plt\n",
        "import seaborn as sns"
      ],
      "metadata": {
        "id": "cUv_hI3iVq4Z"
      },
      "execution_count": null,
      "outputs": []
    },
    {
      "cell_type": "code",
      "source": [
        "#Importing data\n",
        "from google.colab import drive\n",
        "drive.mount(\"/content/gdrive\")"
      ],
      "metadata": {
        "id": "BVEkjbwJV3n3",
        "colab": {
          "base_uri": "https://localhost:8080/"
        },
        "outputId": "4ea710c7-8b90-4513-9a22-81feb667520f"
      },
      "execution_count": 8,
      "outputs": [
        {
          "output_type": "stream",
          "name": "stdout",
          "text": [
            "Drive already mounted at /content/gdrive; to attempt to forcibly remount, call drive.mount(\"/content/gdrive\", force_remount=True).\n"
          ]
        }
      ]
    },
    {
      "cell_type": "code",
      "source": [
        "file_path = '/content/gdrive/My Drive/OneRise NYC 1B/Dataset/founders_all_in_one.csv'\n",
        "df = pd.read_csv(file_path)\n",
        "print(df.head())"
      ],
      "metadata": {
        "id": "wB2ycyG3Yu0s",
        "outputId": "531250a7-24c2-43f1-cab6-273f3377a339",
        "colab": {
          "base_uri": "https://localhost:8080/"
        }
      },
      "execution_count": 9,
      "outputs": [
        {
          "output_type": "stream",
          "name": "stdout",
          "text": [
            "                                                                                                                                                                                                                                                                                                                                                                                                                                                                                                                                                                                                                                                                                                                                                                                                                                                                                  founders_all_in_one\n",
            "founder_id startup_id founder_name    role_focus        title_now                      city        industry        business_model founding_year fundraising_round commitment_level work_style_preference_all risk_tolerance preferred_stage_all looking_for_cofounder desired_cofounder_skills_all         mentorship_interest_all education_background degree_level previous_experience previous_roles       roles_history        skills                                             skills_with_levels                                 skills_count values_priorities_all       management_experience_years technical_depth_score business_acumen_score network_strength_score accelerator_alumni universities company_alumni communities     domain_expertise_summary            notes                                          work_style_preference preferred_stage            values_priorities\n",
            "F00001     S0480      Timothy Carr    Head of AI        Head of AI & Co‑founder        Minneapolis Creator Economy B2B            2016          Series B+         Full‑time        Remote‑first              Medium         Idea                TRUE                  Finance|Frontend|Go‑to‑Market|Mobile Wants mentor            CS                   PhD          Consulting          PM|Engineer|Designer Designer|Engineer|PM Finance|Infra/DevOps|Legal/Compliance|Mobile|Se... Finance:Expert|Infra/DevOps:Advanced|Legal/Comp... 5            Craft/Quality               4                           0.814                 0.84                  0.46                   Local Accelerator  NaN          NaN            DataTalks       Climate modeling, carbon accounting Enjoys early user interviews; rapid prototyper Remote‑first          Idea                           Craft/Quality\n",
            "F00002     S0258      Colleen Payne   CPO               CPO & Co‑founder               Atlanta     DevTools        B2C            2022          Series A          Full‑time        Remote‑first              High           Idea                FALSE                 Backend|Finance|Go‑to‑Market|Ops     NaN                     Math/Stats           Bachelor     Startup             Ops|Marketing        Marketing|Ops        Backend|Ops/People|Product|Security                Backend:Intermediate|Ops/People:Intermediate|Pr... 4            Craft/Quality|Profitability 4                           0.718                 0.695                 0.486                  NaN                NaN          NVIDIA         MLOps Community Security posture, IAM, zero‑trust   Strong hiring bar; focuses on product quality  Remote‑first          Idea             Profitability|Craft/Quality\n",
            "F00003     S0593      Douglas Ferrell Founding Engineer Founding Engineer & Co‑founder Ann Arbor   HealthTech      B2C            2018          Seed              Full‑time        Remote‑first              Medium         Seed                FALSE                 Backend|Finance                      Willing to mentor       Math/Stats           Master       Big Tech            Engineer|Designer    Designer|Engineer    Backend|Growth|Legal/Compliance|Product|Security   Backend:Expert|Growth:Advanced|Legal/Compliance... 5            Craft/Quality|Profitability 5                           0.706                 0.846                 0.706                  Entrepreneur First NaN          NaN            NaN             EHR integrations, HIPAA compliance  Hands‑on architect; looking for GTM partner    Remote‑first          Seed             Profitability|Craft/Quality\n",
            "F00004     S0248      Henry Vaughn    CTO               CTO & Co‑founder               Nashville   ClimateTech     B2B2C          2012          Series B+         Part‑time        Hybrid                    Low            MVP                 FALSE                 ML/AI|Mobile|Sales                   NaN                     Economics            Bachelor     Finance             Finance              Finance              Infra/DevOps|Mobile|Ops/People|Partnerships        Infra/DevOps:Intermediate|Mobile:Intermediate|O... 4            Community                   2                           0.827                 1.0                   0.673                  YC                 MIT          NaN            AI Grant        On-device ML, mobile inference      Strong hiring bar; focuses on product quality  Hybrid                MVP                                Community\n"
          ]
        }
      ]
    },
    {
      "cell_type": "code",
      "source": [
        "from google.colab import drive\n",
        "drive.mount('/content/drive')"
      ],
      "metadata": {
        "id": "r9eOm1YBciXw"
      },
      "execution_count": null,
      "outputs": []
    },
    {
      "cell_type": "code",
      "source": [],
      "metadata": {
        "id": "Eo8IAy6PaGvE"
      },
      "execution_count": null,
      "outputs": []
    }
  ]
}